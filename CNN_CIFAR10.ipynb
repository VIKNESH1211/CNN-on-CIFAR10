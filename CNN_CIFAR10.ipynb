{
 "cells": [
  {
   "cell_type": "code",
   "execution_count": 57,
   "metadata": {},
   "outputs": [],
   "source": [
    "import tensorflow as tf\n",
    "from tensorflow import keras\n",
    "from keras import layers\n",
    "import matplotlib.pyplot as plt\n",
    "import os\n",
    "os.environ['TF_CPP_MIN_LOG_LEVEL'] = '2'"
   ]
  },
  {
   "cell_type": "code",
   "execution_count": 58,
   "metadata": {},
   "outputs": [],
   "source": [
    "#importing the data set\n",
    "cifar10 = keras.datasets.cifar10"
   ]
  },
  {
   "cell_type": "code",
   "execution_count": 59,
   "metadata": {},
   "outputs": [],
   "source": [
    "(x_train ,y_train) ,(x_test,y_test) = cifar10.load_data()"
   ]
  },
  {
   "cell_type": "code",
   "execution_count": 60,
   "metadata": {},
   "outputs": [],
   "source": [
    "class_names = ['airplane', \n",
    "                'automobile', \n",
    "                'bird', \n",
    "                'cat', \n",
    "                'deer',\n",
    "                'dog', \n",
    "                'frog', \n",
    "                'horse', \n",
    "                'ship', \n",
    "                'truck']"
   ]
  },
  {
   "cell_type": "code",
   "execution_count": 61,
   "metadata": {},
   "outputs": [
    {
     "name": "stdout",
     "output_type": "stream",
     "text": [
      "(50000, 32, 32, 3)\n"
     ]
    }
   ],
   "source": [
    "print(x_train.shape)"
   ]
  },
  {
   "cell_type": "code",
   "execution_count": 62,
   "metadata": {},
   "outputs": [],
   "source": [
    "#normalization\n",
    "x_train , x_test = x_train / 225.0 , x_test / 225.0\n"
   ]
  },
  {
   "cell_type": "code",
   "execution_count": 63,
   "metadata": {},
   "outputs": [
    {
     "name": "stdout",
     "output_type": "stream",
     "text": [
      "Model: \"sequential_16\"\n",
      "_________________________________________________________________\n",
      " Layer (type)                Output Shape              Param #   \n",
      "=================================================================\n",
      " conv2d_17 (Conv2D)          (None, 30, 30, 32)        896       \n",
      "                                                                 \n",
      " max_pooling2d_16 (MaxPoolin  (None, 15, 15, 32)       0         \n",
      " g2D)                                                            \n",
      "                                                                 \n",
      " conv2d_18 (Conv2D)          (None, 13, 13, 32)        9248      \n",
      "                                                                 \n",
      " max_pooling2d_17 (MaxPoolin  (None, 6, 6, 32)         0         \n",
      " g2D)                                                            \n",
      "                                                                 \n",
      " flatten_1 (Flatten)         (None, 1152)              0         \n",
      "                                                                 \n",
      " dense_2 (Dense)             (None, 64)                73792     \n",
      "                                                                 \n",
      " dense_3 (Dense)             (None, 10)                650       \n",
      "                                                                 \n",
      "=================================================================\n",
      "Total params: 84,586\n",
      "Trainable params: 84,586\n",
      "Non-trainable params: 0\n",
      "_________________________________________________________________\n",
      "None\n"
     ]
    }
   ],
   "source": [
    "# model...\n",
    "model = keras.models.Sequential()\n",
    "model.add(layers.Conv2D(32, (3,3), strides=(1,1), padding=\"valid\", activation='relu', input_shape=(32,32,3)))\n",
    "model.add(layers.MaxPool2D((2,2)))\n",
    "model.add(layers.Conv2D(32, 3, activation='relu'))\n",
    "model.add(layers.MaxPool2D((2,2)))\n",
    "model.add(layers.Flatten())\n",
    "model.add(layers.Dense(64, activation='relu'))\n",
    "model.add(layers.Dense(10))\n",
    "print(model.summary())"
   ]
  },
  {
   "cell_type": "code",
   "execution_count": 64,
   "metadata": {},
   "outputs": [
    {
     "name": "stderr",
     "output_type": "stream",
     "text": [
      "c:\\Users\\S.Viknesh\\miniconda3\\lib\\site-packages\\keras\\optimizers\\optimizer_v2\\adam.py:110: UserWarning: The `lr` argument is deprecated, use `learning_rate` instead.\n",
      "  super(Adam, self).__init__(name, **kwargs)\n"
     ]
    }
   ],
   "source": [
    "loss = keras.losses.SparseCategoricalCrossentropy(from_logits= True)\n",
    "optim = keras.optimizers.Adam(lr =0.001)\n",
    "metrics = ['accuracy']"
   ]
  },
  {
   "cell_type": "code",
   "execution_count": 65,
   "metadata": {},
   "outputs": [],
   "source": [
    "model.compile(optimizer=optim , loss= loss ,metrics=metrics)"
   ]
  },
  {
   "cell_type": "code",
   "execution_count": 66,
   "metadata": {},
   "outputs": [
    {
     "name": "stdout",
     "output_type": "stream",
     "text": [
      "Epoch 1/30\n",
      "1563/1563 - 15s - loss: 1.4857 - accuracy: 0.4643 - 15s/epoch - 9ms/step\n",
      "Epoch 2/30\n",
      "1563/1563 - 14s - loss: 1.1818 - accuracy: 0.5838 - 14s/epoch - 9ms/step\n",
      "Epoch 3/30\n",
      "1563/1563 - 15s - loss: 1.0581 - accuracy: 0.6296 - 15s/epoch - 9ms/step\n",
      "Epoch 4/30\n",
      "1563/1563 - 14s - loss: 0.9774 - accuracy: 0.6578 - 14s/epoch - 9ms/step\n",
      "Epoch 5/30\n",
      "1563/1563 - 15s - loss: 0.9141 - accuracy: 0.6811 - 15s/epoch - 10ms/step\n",
      "Epoch 6/30\n",
      "1563/1563 - 14s - loss: 0.8608 - accuracy: 0.7002 - 14s/epoch - 9ms/step\n",
      "Epoch 7/30\n",
      "1563/1563 - 15s - loss: 0.8216 - accuracy: 0.7131 - 15s/epoch - 9ms/step\n",
      "Epoch 8/30\n",
      "1563/1563 - 15s - loss: 0.7798 - accuracy: 0.7274 - 15s/epoch - 9ms/step\n",
      "Epoch 9/30\n",
      "1563/1563 - 14s - loss: 0.7489 - accuracy: 0.7397 - 14s/epoch - 9ms/step\n",
      "Epoch 10/30\n",
      "1563/1563 - 15s - loss: 0.7141 - accuracy: 0.7496 - 15s/epoch - 9ms/step\n",
      "Epoch 11/30\n",
      "1563/1563 - 15s - loss: 0.6842 - accuracy: 0.7589 - 15s/epoch - 9ms/step\n",
      "Epoch 12/30\n",
      "1563/1563 - 15s - loss: 0.6559 - accuracy: 0.7694 - 15s/epoch - 9ms/step\n",
      "Epoch 13/30\n",
      "1563/1563 - 15s - loss: 0.6302 - accuracy: 0.7798 - 15s/epoch - 9ms/step\n",
      "Epoch 14/30\n",
      "1563/1563 - 16s - loss: 0.6064 - accuracy: 0.7874 - 16s/epoch - 10ms/step\n",
      "Epoch 15/30\n",
      "1563/1563 - 15s - loss: 0.5819 - accuracy: 0.7969 - 15s/epoch - 10ms/step\n",
      "Epoch 16/30\n",
      "1563/1563 - 15s - loss: 0.5619 - accuracy: 0.8028 - 15s/epoch - 10ms/step\n",
      "Epoch 17/30\n",
      "1563/1563 - 15s - loss: 0.5385 - accuracy: 0.8096 - 15s/epoch - 10ms/step\n",
      "Epoch 18/30\n",
      "1563/1563 - 15s - loss: 0.5175 - accuracy: 0.8179 - 15s/epoch - 10ms/step\n",
      "Epoch 19/30\n",
      "1563/1563 - 15s - loss: 0.4953 - accuracy: 0.8259 - 15s/epoch - 10ms/step\n",
      "Epoch 20/30\n",
      "1563/1563 - 15s - loss: 0.4770 - accuracy: 0.8321 - 15s/epoch - 10ms/step\n",
      "Epoch 21/30\n",
      "1563/1563 - 15s - loss: 0.4584 - accuracy: 0.8378 - 15s/epoch - 10ms/step\n",
      "Epoch 22/30\n",
      "1563/1563 - 15s - loss: 0.4437 - accuracy: 0.8432 - 15s/epoch - 10ms/step\n",
      "Epoch 23/30\n",
      "1563/1563 - 15s - loss: 0.4220 - accuracy: 0.8494 - 15s/epoch - 10ms/step\n",
      "Epoch 24/30\n",
      "1563/1563 - 15s - loss: 0.4088 - accuracy: 0.8544 - 15s/epoch - 10ms/step\n",
      "Epoch 25/30\n",
      "1563/1563 - 15s - loss: 0.3875 - accuracy: 0.8626 - 15s/epoch - 10ms/step\n",
      "Epoch 26/30\n",
      "1563/1563 - 15s - loss: 0.3766 - accuracy: 0.8650 - 15s/epoch - 10ms/step\n",
      "Epoch 27/30\n",
      "1563/1563 - 15s - loss: 0.3604 - accuracy: 0.8710 - 15s/epoch - 10ms/step\n",
      "Epoch 28/30\n",
      "1563/1563 - 15s - loss: 0.3431 - accuracy: 0.8770 - 15s/epoch - 10ms/step\n",
      "Epoch 29/30\n",
      "1563/1563 - 15s - loss: 0.3340 - accuracy: 0.8803 - 15s/epoch - 10ms/step\n",
      "Epoch 30/30\n",
      "1563/1563 - 18s - loss: 0.3198 - accuracy: 0.8843 - 18s/epoch - 12ms/step\n"
     ]
    },
    {
     "data": {
      "text/plain": [
       "<keras.callbacks.History at 0x2dc4ed01ac0>"
      ]
     },
     "execution_count": 66,
     "metadata": {},
     "output_type": "execute_result"
    }
   ],
   "source": [
    "epochs =30\n",
    "batch_size =32\n",
    "model.fit(x_train ,y_train ,epochs=epochs ,batch_size= batch_size ,verbose=2)"
   ]
  },
  {
   "cell_type": "code",
   "execution_count": 68,
   "metadata": {},
   "outputs": [
    {
     "name": "stdout",
     "output_type": "stream",
     "text": [
      "313/313 [==============================] - 1s 4ms/step - loss: 1.5053 - accuracy: 0.6605\n"
     ]
    },
    {
     "data": {
      "text/plain": [
       "[1.5053068399429321, 0.6604999899864197]"
      ]
     },
     "execution_count": 68,
     "metadata": {},
     "output_type": "execute_result"
    }
   ],
   "source": [
    "model.evaluate(x_test , y_test , batch_size = batch_size , verbose =1)"
   ]
  },
  {
   "cell_type": "code",
   "execution_count": 69,
   "metadata": {},
   "outputs": [],
   "source": [
    "model.save(\"cnn_model.hdf5\")"
   ]
  }
 ],
 "metadata": {
  "kernelspec": {
   "display_name": "Python 3.9.12 ('base')",
   "language": "python",
   "name": "python3"
  },
  "language_info": {
   "codemirror_mode": {
    "name": "ipython",
    "version": 3
   },
   "file_extension": ".py",
   "mimetype": "text/x-python",
   "name": "python",
   "nbconvert_exporter": "python",
   "pygments_lexer": "ipython3",
   "version": "3.9.12"
  },
  "orig_nbformat": 4,
  "vscode": {
   "interpreter": {
    "hash": "6fa20e30b057ebd6b5c548a33de14789bcd1ee59bdb1d8aadd5188efa915b212"
   }
  }
 },
 "nbformat": 4,
 "nbformat_minor": 2
}
